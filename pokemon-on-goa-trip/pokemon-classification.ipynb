{
 "cells": [
  {
   "cell_type": "code",
   "execution_count": 166,
   "metadata": {},
   "outputs": [],
   "source": [
    "import cv2\n",
    "import numpy as np\n",
    "import matplotlib.pyplot as plt\n",
    "import pandas as pd"
   ]
  },
  {
   "cell_type": "code",
   "execution_count": null,
   "metadata": {},
   "outputs": [],
   "source": []
  },
  {
   "cell_type": "code",
   "execution_count": 167,
   "metadata": {
    "_cell_guid": "79c7e3d0-c299-4dcb-8224-4455121ee9b0",
    "_uuid": "d629ff2d2480ee46fbb7e2d37f6b5fab8052498a"
   },
   "outputs": [],
   "source": [
    "df_train = pd.read_csv(\"./dataset/Train/train.csv\").values\n",
    "df_test = pd.read_csv(\"./dataset/Test/test.csv\").values\n",
    "df_sample = pd.read_csv(\"./dataset/Test/Sample_submission.csv\").values"
   ]
  },
  {
   "cell_type": "code",
   "execution_count": 168,
   "metadata": {},
   "outputs": [
    {
     "data": {
      "text/plain": [
       "(123, 1)"
      ]
     },
     "execution_count": 168,
     "metadata": {},
     "output_type": "execute_result"
    }
   ],
   "source": [
    "df_test.shape"
   ]
  },
  {
   "cell_type": "code",
   "execution_count": 208,
   "metadata": {},
   "outputs": [],
   "source": [
    "train_path = './dataset/Train/Images/'\n",
    "test_path = './dataset/Test/Images/'\n",
    "X = []\n",
    "test = []\n",
    "for each in df_train:\n",
    "    img = cv2.imread(train_path + each[0])\n",
    "    img = cv2.cvtColor(img, cv2.COLOR_BGR2RGB)\n",
    "    img = cv2.resize(img, (200, 200))\n",
    "    X.append(img.flatten())\n",
    "    \n",
    "for each in df_test:\n",
    "    img = cv2.imread(test_path + each[0])\n",
    "    img = cv2.cvtColor(img, cv2.COLOR_BGR2RGB)\n",
    "    img = cv2.resize(img, (200, 200))\n",
    "    test.append(img.flatten())\n"
   ]
  },
  {
   "cell_type": "code",
   "execution_count": 209,
   "metadata": {},
   "outputs": [
    {
     "name": "stdout",
     "output_type": "stream",
     "text": [
      "(120000,)\n",
      "123\n"
     ]
    }
   ],
   "source": [
    "print(X[131].shape)\n",
    "print(len(test))"
   ]
  },
  {
   "cell_type": "code",
   "execution_count": 210,
   "metadata": {},
   "outputs": [
    {
     "name": "stdout",
     "output_type": "stream",
     "text": [
      "(304,)\n"
     ]
    }
   ],
   "source": [
    "Y = df_train[:, 1]\n",
    "print(Y.shape)"
   ]
  },
  {
   "cell_type": "code",
   "execution_count": 241,
   "metadata": {},
   "outputs": [],
   "source": [
    "def distance(p1, p2):\n",
    "    return np.sum((p2 - p1) ** 2) ** .5\n",
    "\n",
    "def knn(X, Y, test, k = 2):\n",
    "    m = len(X)\n",
    "    d = {}\n",
    "    for i in range(m):\n",
    "        d[distance(test, X[i])] = Y[i]\n",
    "    l = sorted(d)\n",
    "    l = l[:k]\n",
    "    label = [d.get(each) for each in l]\n",
    "    label = np.unique(label, return_counts=True)\n",
    "    idx = np.argmax(label[1])\n",
    "    pred = label[0][idx]\n",
    "    return pred"
   ]
  },
  {
   "cell_type": "code",
   "execution_count": null,
   "metadata": {},
   "outputs": [],
   "source": [
    "m = len(test)\n",
    "outcome = np.empty((m, 2), dtype=\"<U10\")\n",
    "for i in range(m):\n",
    "    ID = df_test[i][0]\n",
    "    name = knn(X, Y, test[i])\n",
    "    outcome[i][0] = ID\n",
    "    outcome[i][1] = name\n",
    "#     print(ID, name)"
   ]
  },
  {
   "cell_type": "code",
   "execution_count": null,
   "metadata": {},
   "outputs": [],
   "source": [
    "outcome[:8]"
   ]
  },
  {
   "cell_type": "code",
   "execution_count": 239,
   "metadata": {},
   "outputs": [
    {
     "data": {
      "text/plain": [
       "(array(['Bulbasaur', 'Charmander', 'Pikachu'], dtype='<U10'),\n",
       " array([43, 50, 30]))"
      ]
     },
     "execution_count": 239,
     "metadata": {},
     "output_type": "execute_result"
    }
   ],
   "source": [
    "np.unique(outcome[:,1], return_counts=True)"
   ]
  },
  {
   "cell_type": "code",
   "execution_count": 240,
   "metadata": {},
   "outputs": [],
   "source": [
    "pd.DataFrame(outcome, columns=[\"ImageId\", \"NameOfPokemon\"]).to_csv(\"Outcome.csv\", index=None)"
   ]
  },
  {
   "cell_type": "code",
   "execution_count": 235,
   "metadata": {},
   "outputs": [],
   "source": [
    "r = pd.read_csv('Outcome.csv').values"
   ]
  },
  {
   "cell_type": "code",
   "execution_count": 52,
   "metadata": {},
   "outputs": [
    {
     "name": "stdout",
     "output_type": "stream",
     "text": [
      "<class 'str'>\n"
     ]
    }
   ],
   "source": [
    "print(type(r[0][0]))"
   ]
  },
  {
   "cell_type": "code",
   "execution_count": null,
   "metadata": {},
   "outputs": [],
   "source": []
  }
 ],
 "metadata": {
  "kernelspec": {
   "display_name": "Python 3",
   "language": "python",
   "name": "python3"
  },
  "language_info": {
   "codemirror_mode": {
    "name": "ipython",
    "version": 3
   },
   "file_extension": ".py",
   "mimetype": "text/x-python",
   "name": "python",
   "nbconvert_exporter": "python",
   "pygments_lexer": "ipython3",
   "version": "3.6.8"
  }
 },
 "nbformat": 4,
 "nbformat_minor": 1
}
